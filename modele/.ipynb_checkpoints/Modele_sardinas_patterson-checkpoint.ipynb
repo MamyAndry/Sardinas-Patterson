{
 "cells": [
  {
   "cell_type": "markdown",
   "id": "a88156f1",
   "metadata": {},
   "source": [
    "IMPORTS"
   ]
  },
  {
   "cell_type": "code",
   "execution_count": null,
   "id": "86aff5d3",
   "metadata": {},
   "outputs": [],
   "source": [
    "import numpy as np\n",
    "import pandas as pd\n",
    "import joblib"
   ]
  },
  {
   "cell_type": "code",
   "execution_count": null,
   "id": "b255cfd6",
   "metadata": {},
   "outputs": [],
   "source": [
    "from matplotlib import pyplot as plt\n",
    "from sklearn.model_selection import train_test_split\n",
    "from sklearn.ensemble import RandomForestClassifier\n",
    "from sklearn.metrics import confusion_matrix\n",
    "from sklearn.metrics import accuracy_score"
   ]
  },
  {
   "cell_type": "markdown",
   "id": "46c50e17",
   "metadata": {},
   "source": [
    "DATAFRAME"
   ]
  },
  {
   "cell_type": "code",
   "execution_count": null,
   "id": "5be414f9",
   "metadata": {
    "scrolled": true
   },
   "outputs": [],
   "source": [
    "df = pd.read_csv('/home/mamisoa/ITU/L3/Mr_Tsinjo/Sardinas_patterson/python/codes.csv')\n",
    "df = df.drop(['language'], axis=1)\n",
    "df"
   ]
  },
  {
   "cell_type": "markdown",
   "id": "d38aaf99",
   "metadata": {},
   "source": [
    "TRAINING WITH RANDOM FOREST"
   ]
  },
  {
   "cell_type": "code",
   "execution_count": null,
   "id": "ae0ac14a",
   "metadata": {},
   "outputs": [],
   "source": [
    "X = df.iloc[:, 0:-1].values\n",
    "Y = df.iloc[:, -1].values"
   ]
  },
  {
   "cell_type": "code",
   "execution_count": null,
   "id": "fad3816f",
   "metadata": {
    "scrolled": true
   },
   "outputs": [],
   "source": [
    "X_train, X_test, y_train, y_test = train_test_split(X, Y, test_size = 0.25,random_state = 0)"
   ]
  },
  {
   "cell_type": "code",
   "execution_count": null,
   "id": "20811568",
   "metadata": {
    "scrolled": true
   },
   "outputs": [],
   "source": [
    "clf = RandomForestClassifier(random_state=0)\n",
    "clf = clf.fit(X_train, y_train)\n",
    "y_pred = clf.predict(X_test)"
   ]
  },
  {
   "cell_type": "code",
   "execution_count": null,
   "id": "f6a45f8a",
   "metadata": {},
   "outputs": [],
   "source": [
    "cm = confusion_matrix(y_test, y_pred)\n",
    "print(cm)"
   ]
  },
  {
   "cell_type": "code",
   "execution_count": null,
   "id": "fa73595c",
   "metadata": {
    "scrolled": false
   },
   "outputs": [],
   "source": [
    "accuracy_score(y_test, y_pred)"
   ]
  },
  {
   "cell_type": "markdown",
   "id": "b8216168",
   "metadata": {},
   "source": [
    "IMPORTATION MODELE"
   ]
  },
  {
   "cell_type": "code",
   "execution_count": null,
   "id": "03c98035",
   "metadata": {
    "scrolled": true
   },
   "outputs": [],
   "source": [
    "joblib.dump(clf , \"/home/mamisoa/ITU/L3/Mr_Tsinjo/Sardinas_patterson/modele/code.joblib\")"
   ]
  },
  {
   "cell_type": "code",
   "execution_count": null,
   "id": "e27d46c5",
   "metadata": {},
   "outputs": [],
   "source": [
    "modele = joblib.load(\"/home/mamisoa/ITU/L3/Mr_Tsinjo/Sardinas_patterson/modele/code.joblib\")\n",
    "# modele = joblib.load(\"/home/mamisoa/ITU/L3/Mr_Tsinjo/Sardinas_patterson/modele/code_ok_1.joblib\")"
   ]
  },
  {
   "cell_type": "markdown",
   "id": "a3aefc24",
   "metadata": {},
   "source": [
    "IMPLEMENTATION SARDINAS-PATTERSON ALGORITHM"
   ]
  },
  {
   "cell_type": "code",
   "execution_count": null,
   "id": "7f262415",
   "metadata": {},
   "outputs": [],
   "source": [
    "class SardinasPatterson:\n",
    "    language = list()\n",
    "    step = list()\n",
    "    epsilon = \"\"\n",
    "    \n",
    "    def __init__(self, language):\n",
    "        self.language = language\n",
    "        self.step.clear()\n",
    "\n",
    "    def divide(self, L1, L2):\n",
    "        res = set()\n",
    "        for elt in L1:\n",
    "            for item in L2:\n",
    "                if item.startswith(elt):\n",
    "                    if(item[len(elt):] == ''):\n",
    "                        self.epsilon = elt\n",
    "                    res.add(item[len(elt):])\n",
    "        return res\n",
    "    \n",
    "    def get_L1(self):\n",
    "        res = self.divide(self.language, self.language)\n",
    "        res.remove('')\n",
    "        return res\n",
    "    \n",
    "    def get_L_n_plus_1(self, Ln):\n",
    "        res = self.divide(Ln, self.language)\n",
    "        return res.union(self.divide(self.language, Ln))\n",
    "    \n",
    "    def get_mot(self, lst, mot):\n",
    "        for item in self.language:\n",
    "            for elt in lst:\n",
    "                if(item == (elt + mot)):\n",
    "                    return elt\n",
    "        return mot\n",
    "\n",
    "    def get_contre_exemple(self):\n",
    "        res = []\n",
    "        mot = self.epsilon\n",
    "        temp = self.step\n",
    "        res.append(mot)\n",
    "        for i in range(len(temp) - 2, -1, -1 ):\n",
    "            mot = self.get_mot(temp[i-1], mot)\n",
    "            res.append(mot)\n",
    "        return ''.join(res)\n",
    "\n",
    "    def make_code(self):\n",
    "        initial = self.language.copy()\n",
    "        temp = initial.copy()\n",
    "        temp_2 = None\n",
    "        for i in range(len(temp)):\n",
    "            self.language = initial.copy()\n",
    "            temp = initial.copy()\n",
    "            temp.pop(i)\n",
    "            self.language = temp\n",
    "            temp_2 = temp.copy()\n",
    "            if(self.is_code()[0] == True):\n",
    "                return self.language\n",
    "            for j in range(len(temp_2)):\n",
    "                temp_2.pop(j)\n",
    "                self.language = temp_2\n",
    "                if(self.is_code()[0] == True):\n",
    "                    return self.language\n",
    "        return list()\n",
    "\n",
    "    def is_code(self):\n",
    "        if(len(self.language) == 1):\n",
    "            return True, 'It stops at L1'\n",
    "        temp = self.get_L1()\n",
    "        count = 1\n",
    "        self.step.append(temp)\n",
    "        while('' not in temp):\n",
    "            temp = self.get_L_n_plus_1(temp)\n",
    "            if temp in self.step:\n",
    "                return True, 'It stops at L' + str(count) \n",
    "            self.step.append(temp)\n",
    "            count += 1\n",
    "        self.step.append(self.language)\n",
    "        return False, 'It stops at L' + str(count)"
   ]
  },
  {
   "cell_type": "markdown",
   "id": "22c90f4e",
   "metadata": {},
   "source": [
    "TREATMENT OF THE CODE SENT"
   ]
  },
  {
   "cell_type": "code",
   "execution_count": null,
   "id": "f111ab6b",
   "metadata": {},
   "outputs": [],
   "source": [
    "import math\n",
    "from nltk.metrics.distance import edit_distance\n",
    "\n",
    "def get_average_word_length(language):\n",
    "    res = 0\n",
    "    for elt in language:\n",
    "        res += len(elt)\n",
    "    return round((res / len(language)), 2)\n",
    "\n",
    "def get_percent_of_elt(language, letter):\n",
    "    res = 0\n",
    "    for elt in language:\n",
    "        res += elt.count(letter) / len(language)\n",
    "    return res\n",
    "\n",
    "def get_number_of_elt(language, letter):\n",
    "    res = 0\n",
    "    for elt in language:\n",
    "        res += elt.count(letter)\n",
    "    return res\n",
    "\n",
    "def get_frequency_of_number(language, letter):\n",
    "    res = 0\n",
    "    diviseur = get_average_word_length(language)\n",
    "    for elt in language:\n",
    "        res += elt.count(letter) / diviseur\n",
    "    return res\n",
    "\n",
    "def letter_probability(string, letter):\n",
    "    return string.count(letter) / len(string)\n",
    "    \n",
    "\n",
    "def word_entropy(string):\n",
    "    p_0 = letter_probability(string, '0')\n",
    "    p_1 = letter_probability(string, '1')\n",
    "    log_0 = 0\n",
    "    if(p_0 != 0):\n",
    "        log_0 = math.log(p_0, 2)\n",
    "    log_1 = 0\n",
    "    if(p_1 != 0):\n",
    "        log_1 = math.log(p_1, 2)\n",
    "    res = -1\n",
    "    res *= ((p_0 * log_0) + (p_1 * log_1))\n",
    "    return res\n",
    "\n",
    "def entropy(language):\n",
    "    res = 0\n",
    "    for elt in language:\n",
    "        res += word_entropy(elt)\n",
    "    return res/len(language) \n",
    "\n",
    "\n",
    "def calculate_nc(language):\n",
    "    res = 0\n",
    "    for string in language:\n",
    "        p_0 = letter_probability(string, '0')\n",
    "        p_1 = letter_probability(string, '1')\n",
    "        res += (p_0 * len(language)) + (p_1 * len(language))\n",
    "    return res\n",
    "\n",
    "def count_word_composed_of_letter(language, letter):\n",
    "    occ = 0\n",
    "    for elt in language:\n",
    "        if(elt.count(letter) == len(elt)):\n",
    "            occ += 1\n",
    "    return occ\n",
    "\n",
    "def count_word_composed_of_mixed_letter(language):\n",
    "    occ = 0\n",
    "    for elt in language:\n",
    "        if('01' in elt or '10' in elt):\n",
    "            occ += 1\n",
    "    return occ\n",
    "\n",
    "def levenshtein_average_interval(language):\n",
    "    total_interval = 0\n",
    "    pair_nb = 0\n",
    "    for i in range(len(language)):\n",
    "        for j in range(i+1, len(language)):\n",
    "            total_interval += edit_distance(language[i], language[j])\n",
    "            pair_nb += 1\n",
    "    return total_interval / pair_nb if pair_nb > 0 else 0\n",
    "\n",
    "\n",
    "def calcul_value(language):\n",
    "    res = 0\n",
    "    occ_0 = count_word_composed_of_letter(language, '0')\n",
    "    occ_1 = count_word_composed_of_letter(language, '1')\n",
    "    occ_mixte = count_word_composed_of_mixed_letter(language)\n",
    "    res = (occ_0 * 2) + (occ_1 * 2) + (occ_mixte * 1) \n",
    "    return res / 5\n",
    "\n",
    "def parity_calculation(language):\n",
    "    res = 0\n",
    "    for elt in language:\n",
    "        res += elt.count('1')\n",
    "    return res % 2\n",
    "\n",
    "\n",
    "def special(word):\n",
    "    value = \"\".join(word)\n",
    "    number = int(value, 2)\n",
    "    return number / (len(word)*240420020)\n",
    "\n",
    "    \n",
    "def get_language_data(lang):\n",
    "    value = {}\n",
    "    value['length'] = (str(len(lang)))\n",
    "    value['average_word_length'] = str(get_average_word_length(lang))\n",
    "#     value['percentage_of_0'] = str(get_percent_of_elt(lang, '0'))\n",
    "#     value['percentage_of_1'] = str(get_percent_of_elt(lang, '1'))\n",
    "#     value['percentage_of_01'] = str(get_percent_of_elt(lang, '01'))\n",
    "#     value['percentage_of_10'] = str(get_percent_of_elt(lang, '10'))\n",
    "#     value['percentage_of_00'] = str(get_percent_of_elt(lang, '00'))\n",
    "#     value['percentage_of_11'] = str(get_percent_of_elt(lang, '11'))\n",
    "    value['frequency_of_0'] = str(get_frequency_of_number(lang, '0'))\n",
    "    value['frequency_of_1'] = str(get_frequency_of_number(lang, '1'))\n",
    "    value['frequency_of_01'] = str(get_frequency_of_number(lang, '01'))\n",
    "    value['frequency_of_10'] = str(get_frequency_of_number(lang, '10'))\n",
    "    value['frequency_of_00'] = str(get_frequency_of_number(lang, '00'))\n",
    "    value['frequency_of_11'] = str(get_frequency_of_number(lang, '11'))\n",
    "    value['levenshtein'] = str(levenshtein_average_interval(lang))\n",
    "    value['nc'] = str(calculate_nc(lang))\n",
    "    value['entropy'] = str(entropy(lang))\n",
    "#     value['parity'] = str(parity_calculation(lang))\n",
    "    value['special'] = str(special(lang))\n",
    "    return value"
   ]
  },
  {
   "cell_type": "markdown",
   "id": "48459b55",
   "metadata": {},
   "source": [
    "SERVER-SIDE powered by Flask"
   ]
  },
  {
   "cell_type": "code",
   "execution_count": null,
   "id": "46428b25",
   "metadata": {
    "scrolled": false
   },
   "outputs": [],
   "source": [
    "from flask import Flask,request, jsonify\n",
    "from flask_cors import CORS, cross_origin\n",
    "\n",
    "app = Flask(__name__)\n",
    "\n",
    "    \n",
    "cors = CORS(app)\n",
    "app.config['CORS_HEADERS'] = 'Content-Type'\n",
    "\n",
    "@app.route('/', methods=['GET'])\n",
    "@cross_origin()\n",
    "def home():\n",
    "    return \"<h1>Index</h1><p>\"\n",
    "\n",
    "\n",
    "@app.route('/is_code', methods = ['POST' , 'GET'])\n",
    "@cross_origin()\n",
    "def is_code():\n",
    "    try:\n",
    "        code = request.form.get('code').replace(\" \", \"\")\n",
    "        code = code.split(\",\")\n",
    "        sp = SardinasPatterson(code)\n",
    "    #     sp.language = code\n",
    "        temp = get_language_data(code)\n",
    "        value = pd.DataFrame(temp, index=[0])\n",
    "        sp_result = sp.is_code()\n",
    "        model_result = modele.predict(value)[0]\n",
    "        return jsonify({\"sp_result\": str(sp_result[0]), \"model_result\": str(model_result), \"code\": code})\n",
    "    except Exception as e:\n",
    "        print(e)\n",
    "        return jsonify({\"sp_result\": \"\", \"model_result\": \"\", \"code\": str(e)})\n",
    "    \n",
    "if __name__ == '__main__':\n",
    "    app.run(port=5000)"
   ]
  },
  {
   "cell_type": "code",
   "execution_count": null,
   "id": "d0059110",
   "metadata": {},
   "outputs": [],
   "source": []
  }
 ],
 "metadata": {
  "kernelspec": {
   "display_name": "Python 3 (ipykernel)",
   "language": "python",
   "name": "python3"
  },
  "language_info": {
   "codemirror_mode": {
    "name": "ipython",
    "version": 3
   },
   "file_extension": ".py",
   "mimetype": "text/x-python",
   "name": "python",
   "nbconvert_exporter": "python",
   "pygments_lexer": "ipython3",
   "version": "3.11.2"
  }
 },
 "nbformat": 4,
 "nbformat_minor": 5
}
