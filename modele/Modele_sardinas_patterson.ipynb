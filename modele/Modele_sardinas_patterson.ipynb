{
 "cells": [
  {
   "cell_type": "code",
   "execution_count": 1,
   "id": "b255cfd6",
   "metadata": {},
   "outputs": [],
   "source": [
    "import numpy as np\n",
    "import pandas as pd\n",
    "from matplotlib import pyplot as plt"
   ]
  },
  {
   "cell_type": "code",
   "execution_count": 2,
   "id": "8b27c8d4",
   "metadata": {},
   "outputs": [],
   "source": [
    "from sklearn.model_selection import train_test_split\n",
    "from sklearn.ensemble import RandomForestClassifier\n",
    "from sklearn.metrics import confusion_matrix\n",
    "from sklearn.metrics import accuracy_score"
   ]
  },
  {
   "cell_type": "code",
   "execution_count": 3,
   "id": "5be414f9",
   "metadata": {},
   "outputs": [],
   "source": [
    "df = pd.read_csv('/home/mamisoa/ITU/L3/Mr_Tsinjo/Sardinas_patterson/python/codes.csv')"
   ]
  },
  {
   "cell_type": "code",
   "execution_count": 4,
   "id": "ae0ac14a",
   "metadata": {},
   "outputs": [],
   "source": [
    "X = df.iloc[:, 0:-1].values\n",
    "Y = df.iloc[:, -1].values"
   ]
  },
  {
   "cell_type": "code",
   "execution_count": 5,
   "id": "fad3816f",
   "metadata": {
    "scrolled": true
   },
   "outputs": [],
   "source": [
    "X_train, X_test, y_train, y_test = train_test_split(X, Y, test_size = 0.20,random_state = 0)"
   ]
  },
  {
   "cell_type": "code",
   "execution_count": 6,
   "id": "20811568",
   "metadata": {},
   "outputs": [],
   "source": [
    "clf = RandomForestClassifier(random_state=0)\n",
    "clf = clf.fit(X_train, y_train)\n",
    "y_pred = clf.predict(X_test)"
   ]
  },
  {
   "cell_type": "code",
   "execution_count": 7,
   "id": "f6a45f8a",
   "metadata": {},
   "outputs": [
    {
     "name": "stdout",
     "output_type": "stream",
     "text": [
      "[[474  45]\n",
      " [ 66 415]]\n"
     ]
    }
   ],
   "source": [
    "cm = confusion_matrix(y_test, y_pred)\n",
    "print(cm)"
   ]
  },
  {
   "cell_type": "code",
   "execution_count": 8,
   "id": "fa73595c",
   "metadata": {},
   "outputs": [
    {
     "data": {
      "text/plain": [
       "0.889"
      ]
     },
     "execution_count": 8,
     "metadata": {},
     "output_type": "execute_result"
    }
   ],
   "source": [
    "accuracy_score(y_test, y_pred)"
   ]
  },
  {
   "cell_type": "code",
   "execution_count": 9,
   "id": "c073f9a5",
   "metadata": {},
   "outputs": [],
   "source": [
    "import joblib"
   ]
  },
  {
   "cell_type": "code",
   "execution_count": 10,
   "id": "03c98035",
   "metadata": {},
   "outputs": [
    {
     "data": {
      "text/plain": [
       "['/home/mamisoa/ITU/L3/Mr_Tsinjo/Sardinas_patterson/code.joblib']"
      ]
     },
     "execution_count": 10,
     "metadata": {},
     "output_type": "execute_result"
    }
   ],
   "source": [
    "joblib.dump(clf , \"/home/mamisoa/ITU/L3/Mr_Tsinjo/Sardinas_patterson/modele/code.joblib\")"
   ]
  },
  {
   "cell_type": "code",
   "execution_count": 11,
   "id": "e27d46c5",
   "metadata": {},
   "outputs": [],
   "source": [
    "modele = joblib.load(\"/home/mamisoa/ITU/L3/Mr_Tsinjo/Sardinas_patterson/modele/code.joblib\")"
   ]
  },
  {
   "cell_type": "code",
   "execution_count": 12,
   "id": "85e8bd22",
   "metadata": {
    "scrolled": true
   },
   "outputs": [
    {
     "name": "stdout",
     "output_type": "stream",
     "text": [
      "      length  average_word_length  percentage_of_1  percentage_of_0  \\\n",
      "3990    11.0                 3.36         1.727273         1.636364   \n",
      "\n",
      "      percentage_of_01  percentage_of_10  percentage_of_00  percentage_of_11  \\\n",
      "3990          0.636364          0.818182          0.363636          0.363636   \n",
      "\n",
      "      frequency_of_1  frequency_of_0    special  \n",
      "3990        5.654762        5.357143  39.770949  \n"
     ]
    },
    {
     "name": "stderr",
     "output_type": "stream",
     "text": [
      "/usr/lib/python3/dist-packages/sklearn/base.py:413: UserWarning: X has feature names, but RandomForestClassifier was fitted without feature names\n",
      "  warnings.warn(\n"
     ]
    },
    {
     "data": {
      "text/plain": [
       "False"
      ]
     },
     "execution_count": 12,
     "metadata": {},
     "output_type": "execute_result"
    }
   ],
   "source": [
    "value = df.drop('code', axis=1).iloc[3990]\n",
    "value = pd.DataFrame(value).T\n",
    "print(value)\n",
    "modele.predict(value)[0]"
   ]
  },
  {
   "cell_type": "code",
   "execution_count": 13,
   "id": "7f262415",
   "metadata": {},
   "outputs": [],
   "source": [
    "class SardinasPatterson:\n",
    "    language = list()\n",
    "    step = list()\n",
    "    epsilon = \"\"\n",
    "\n",
    "    def divide(self, L1, L2):\n",
    "        res = set()\n",
    "        for elt in L1:\n",
    "            for item in L2:\n",
    "                if item.startswith(elt):\n",
    "                    if(item[len(elt):] == ''):\n",
    "                        self.epsilon = elt\n",
    "                    res.add(item[len(elt):])\n",
    "        return res\n",
    "    \n",
    "    def create_list(self, lst):\n",
    "        res = []\n",
    "        for elt in lst:\n",
    "            res.append(elt)\n",
    "        return res\n",
    "    \n",
    "    def get_L1(self):\n",
    "        res = self.divide(self.language, self.language)\n",
    "        res.remove('')\n",
    "        return res\n",
    "    \n",
    "    def get_L_n_plus_1(self, Ln):\n",
    "        res = self.divide(Ln, self.language)\n",
    "        return res.union(self.divide(self.language, Ln))\n",
    "    \n",
    "    def get_mot(self, lst, mot):\n",
    "        for item in self.language:\n",
    "            for elt in lst:\n",
    "                if(item == (elt + mot)):\n",
    "                    print(\"elt :\", elt, \" item\", item, \" mot : \", elt+mot)\n",
    "                    return elt\n",
    "\n",
    "        return mot\n",
    "\n",
    "    def get_contre_exemple(self):\n",
    "        res = []\n",
    "        mot = self.epsilon\n",
    "        temp = self.step\n",
    "        res.append(mot)\n",
    "        for i in range(len(temp) - 2, -1, -1 ):\n",
    "            mot = self.get_mot(temp[i-1], mot)\n",
    "            res.append(mot)\n",
    "        return ''.join(res)\n",
    "\n",
    "    def make_code(self):\n",
    "        initial = self.create_list(self.language)\n",
    "        temp = self.create_list(initial)\n",
    "        temp_2 = None\n",
    "        for i in range(len(temp)):\n",
    "            self.language = self.create_list(initial)\n",
    "            temp = self.create_list(initial)\n",
    "            temp.pop(i)\n",
    "            self.language = temp\n",
    "            temp_2 = self.create_list(temp)\n",
    "            if(self.is_code()[0] == True):\n",
    "                return self.language\n",
    "            for j in range(len(temp_2)):\n",
    "                temp_2.pop(j)\n",
    "                self.language = temp_2\n",
    "                if(self.is_code()[0] == True):\n",
    "                    return self.language\n",
    "        return list()\n",
    "\n",
    "    def is_code(self):\n",
    "        if(len(self.language) == 1):\n",
    "            return True, 'It stops at L1'\n",
    "        temp = self.get_L1()\n",
    "        count = 1\n",
    "        self.step.append(temp)\n",
    "        while('' not in temp):\n",
    "            temp = self.get_L_n_plus_1(temp)\n",
    "            if temp in self.step:\n",
    "                return True, 'It stops at L' + str(count) \n",
    "            self.step.append(temp)\n",
    "            count += 1\n",
    "        self.step.append(self.language)\n",
    "        return False, 'It stops at L' + str(count)\n",
    "    "
   ]
  },
  {
   "cell_type": "code",
   "execution_count": 14,
   "id": "f111ab6b",
   "metadata": {},
   "outputs": [],
   "source": [
    "def get_average_word_length(language):\n",
    "    res = 0\n",
    "    for elt in language:\n",
    "        res += len(elt)\n",
    "    return round((res / len(language)), 2)\n",
    "\n",
    "def get_percent_of_elt(language, letter):\n",
    "    res = 0\n",
    "    for elt in language:\n",
    "        res += elt.count(letter) / len(language)\n",
    "    return res\n",
    "\n",
    "def get_number_of_elt(language, letter):\n",
    "    res = 0\n",
    "    for elt in language:\n",
    "        res += elt.count(letter)\n",
    "    return res\n",
    "\n",
    "def get_frequency_of_number(language, letter):\n",
    "    res = 0\n",
    "    diviseur = get_average_word_length(language)\n",
    "    for elt in language:\n",
    "        res += elt.count(letter) / diviseur\n",
    "    return res\n",
    "\n",
    "\n",
    "def special(word):\n",
    "    value = \"\".join(word)\n",
    "    number = int(value, 2)\n",
    "    return number / (len(word)*200000002)\n",
    "\n",
    "    \n",
    "def get_language_data(lang):\n",
    "    value = {}\n",
    "    value['length'] = (str(len(lang)))\n",
    "    value['average_word_length'] = str(get_average_word_length(lang))\n",
    "    value['percent_of_0'] = str(get_percent_of_elt(lang, '0'))\n",
    "    value['percent_of_1'] = str(get_percent_of_elt(lang, '1'))\n",
    "    value['percent_of_01'] = str(get_percent_of_elt(lang, '01'))\n",
    "    value['percent_of_10'] = str(get_percent_of_elt(lang, '10'))    \n",
    "    value['percent_of_00'] = str(get_percent_of_elt(lang, '00'))\n",
    "    value['percent_of_11'] = str(get_percent_of_elt(lang, '11'))\n",
    "    value['frequency_of_0'] = str(get_frequency_of_number(lang, '0'))\n",
    "    value['frequency_of_1'] = str(get_frequency_of_number(lang, '1'))\n",
    "    value['special'] = str(special(lang))\n",
    "    return value"
   ]
  },
  {
   "cell_type": "code",
   "execution_count": null,
   "id": "46428b25",
   "metadata": {
    "scrolled": true
   },
   "outputs": [
    {
     "name": "stdout",
     "output_type": "stream",
     "text": [
      " * Serving Flask app '__main__'\n",
      " * Debug mode: off\n"
     ]
    },
    {
     "name": "stderr",
     "output_type": "stream",
     "text": [
      "WARNING: This is a development server. Do not use it in a production deployment. Use a production WSGI server instead.\n",
      " * Running on http://127.0.0.1:5000\n",
      "Press CTRL+C to quit\n",
      "/usr/lib/python3/dist-packages/sklearn/base.py:413: UserWarning: X has feature names, but RandomForestClassifier was fitted without feature names\n",
      "  warnings.warn(\n",
      "127.0.0.1 - - [21/May/2024 19:26:29] \"POST /is_code HTTP/1.1\" 200 -\n",
      "/usr/lib/python3/dist-packages/sklearn/base.py:413: UserWarning: X has feature names, but RandomForestClassifier was fitted without feature names\n",
      "  warnings.warn(\n",
      "127.0.0.1 - - [21/May/2024 19:26:38] \"POST /is_code HTTP/1.1\" 200 -\n",
      "[2024-05-21 19:26:40,256] ERROR in app: Exception on /is_code [POST]\n",
      "Traceback (most recent call last):\n",
      "  File \"/usr/lib/python3/dist-packages/flask/app.py\", line 2525, in wsgi_app\n",
      "    response = self.full_dispatch_request()\n",
      "               ^^^^^^^^^^^^^^^^^^^^^^^^^^^^\n",
      "  File \"/usr/lib/python3/dist-packages/flask/app.py\", line 1822, in full_dispatch_request\n",
      "    rv = self.handle_user_exception(e)\n",
      "         ^^^^^^^^^^^^^^^^^^^^^^^^^^^^^\n",
      "  File \"/home/mamisoa/.local/lib/python3.11/site-packages/flask_cors/extension.py\", line 178, in wrapped_function\n",
      "    return cors_after_request(app.make_response(f(*args, **kwargs)))\n",
      "                                                ^^^^^^^^^^^^^^^^^^\n",
      "  File \"/usr/lib/python3/dist-packages/flask/app.py\", line 1820, in full_dispatch_request\n",
      "    rv = self.dispatch_request()\n",
      "         ^^^^^^^^^^^^^^^^^^^^^^^\n",
      "  File \"/usr/lib/python3/dist-packages/flask/app.py\", line 1796, in dispatch_request\n",
      "    return self.ensure_sync(self.view_functions[rule.endpoint])(**view_args)\n",
      "           ^^^^^^^^^^^^^^^^^^^^^^^^^^^^^^^^^^^^^^^^^^^^^^^^^^^^^^^^^^^^^^^^^\n",
      "  File \"/home/mamisoa/.local/lib/python3.11/site-packages/flask_cors/decorator.py\", line 130, in wrapped_function\n",
      "    resp = make_response(f(*args, **kwargs))\n",
      "                         ^^^^^^^^^^^^^^^^^^\n",
      "  File \"/tmp/ipykernel_11642/2652066256.py\", line 23, in is_code\n",
      "    temp = get_language_data(code)\n",
      "           ^^^^^^^^^^^^^^^^^^^^^^^\n",
      "  File \"/tmp/ipykernel_11642/1129144339.py\", line 43, in get_language_data\n",
      "    value['frequency_of_0'] = str(get_frequency_of_number(lang, '0'))\n",
      "                                  ^^^^^^^^^^^^^^^^^^^^^^^^^^^^^^^^^^\n",
      "  File \"/tmp/ipykernel_11642/1129144339.py\", line 23, in get_frequency_of_number\n",
      "    res += elt.count(letter) / diviseur\n",
      "           ~~~~~~~~~~~~~~~~~~^~~~~~~~~~\n",
      "ZeroDivisionError: float division by zero\n",
      "127.0.0.1 - - [21/May/2024 19:26:40] \"POST /is_code HTTP/1.1\" 500 -\n",
      "/usr/lib/python3/dist-packages/sklearn/base.py:413: UserWarning: X has feature names, but RandomForestClassifier was fitted without feature names\n",
      "  warnings.warn(\n",
      "127.0.0.1 - - [21/May/2024 19:26:44] \"POST /is_code HTTP/1.1\" 200 -\n",
      "/usr/lib/python3/dist-packages/sklearn/base.py:413: UserWarning: X has feature names, but RandomForestClassifier was fitted without feature names\n",
      "  warnings.warn(\n",
      "127.0.0.1 - - [21/May/2024 19:26:55] \"POST /is_code HTTP/1.1\" 200 -\n",
      "/usr/lib/python3/dist-packages/sklearn/base.py:413: UserWarning: X has feature names, but RandomForestClassifier was fitted without feature names\n",
      "  warnings.warn(\n",
      "127.0.0.1 - - [21/May/2024 19:27:04] \"POST /is_code HTTP/1.1\" 200 -\n",
      "[2024-05-21 19:27:06,055] ERROR in app: Exception on /is_code [POST]\n",
      "Traceback (most recent call last):\n",
      "  File \"/usr/lib/python3/dist-packages/flask/app.py\", line 2525, in wsgi_app\n",
      "    response = self.full_dispatch_request()\n",
      "               ^^^^^^^^^^^^^^^^^^^^^^^^^^^^\n",
      "  File \"/usr/lib/python3/dist-packages/flask/app.py\", line 1822, in full_dispatch_request\n",
      "    rv = self.handle_user_exception(e)\n",
      "         ^^^^^^^^^^^^^^^^^^^^^^^^^^^^^\n",
      "  File \"/home/mamisoa/.local/lib/python3.11/site-packages/flask_cors/extension.py\", line 178, in wrapped_function\n",
      "    return cors_after_request(app.make_response(f(*args, **kwargs)))\n",
      "                                                ^^^^^^^^^^^^^^^^^^\n",
      "  File \"/usr/lib/python3/dist-packages/flask/app.py\", line 1820, in full_dispatch_request\n",
      "    rv = self.dispatch_request()\n",
      "         ^^^^^^^^^^^^^^^^^^^^^^^\n",
      "  File \"/usr/lib/python3/dist-packages/flask/app.py\", line 1796, in dispatch_request\n",
      "    return self.ensure_sync(self.view_functions[rule.endpoint])(**view_args)\n",
      "           ^^^^^^^^^^^^^^^^^^^^^^^^^^^^^^^^^^^^^^^^^^^^^^^^^^^^^^^^^^^^^^^^^\n",
      "  File \"/home/mamisoa/.local/lib/python3.11/site-packages/flask_cors/decorator.py\", line 130, in wrapped_function\n",
      "    resp = make_response(f(*args, **kwargs))\n",
      "                         ^^^^^^^^^^^^^^^^^^\n",
      "  File \"/tmp/ipykernel_11642/2652066256.py\", line 23, in is_code\n",
      "    temp = get_language_data(code)\n",
      "           ^^^^^^^^^^^^^^^^^^^^^^^\n",
      "  File \"/tmp/ipykernel_11642/1129144339.py\", line 43, in get_language_data\n",
      "    value['frequency_of_0'] = str(get_frequency_of_number(lang, '0'))\n",
      "                                  ^^^^^^^^^^^^^^^^^^^^^^^^^^^^^^^^^^\n",
      "  File \"/tmp/ipykernel_11642/1129144339.py\", line 23, in get_frequency_of_number\n",
      "    res += elt.count(letter) / diviseur\n",
      "           ~~~~~~~~~~~~~~~~~~^~~~~~~~~~\n",
      "ZeroDivisionError: float division by zero\n",
      "127.0.0.1 - - [21/May/2024 19:27:06] \"POST /is_code HTTP/1.1\" 500 -\n",
      "/usr/lib/python3/dist-packages/sklearn/base.py:413: UserWarning: X has feature names, but RandomForestClassifier was fitted without feature names\n",
      "  warnings.warn(\n",
      "127.0.0.1 - - [21/May/2024 19:44:27] \"POST /is_code HTTP/1.1\" 200 -\n",
      "/usr/lib/python3/dist-packages/sklearn/base.py:413: UserWarning: X has feature names, but RandomForestClassifier was fitted without feature names\n",
      "  warnings.warn(\n",
      "127.0.0.1 - - [21/May/2024 19:45:00] \"POST /is_code HTTP/1.1\" 200 -\n",
      "/usr/lib/python3/dist-packages/sklearn/base.py:413: UserWarning: X has feature names, but RandomForestClassifier was fitted without feature names\n",
      "  warnings.warn(\n",
      "127.0.0.1 - - [21/May/2024 19:45:27] \"POST /is_code HTTP/1.1\" 200 -\n"
     ]
    }
   ],
   "source": [
    "from flask import Flask,request, jsonify\n",
    "from flask_cors import CORS, cross_origin\n",
    "\n",
    "app = Flask(__name__)\n",
    "\n",
    "\n",
    "cors = CORS(app)\n",
    "app.config['CORS_HEADERS'] = 'Content-Type'\n",
    "\n",
    "@app.route('/', methods=['GET'])\n",
    "@cross_origin()\n",
    "def home():\n",
    "    return \"<h1>Index</h1><p>\"\n",
    "\n",
    "\n",
    "@app.route('/is_code', methods = ['POST' , 'GET'])\n",
    "@cross_origin()\n",
    "def is_code():\n",
    "    code = request.form.get('code').replace(\" \", \"\")\n",
    "    code = code.split(\",\")\n",
    "    sp = SardinasPatterson()\n",
    "    sp.language = code\n",
    "    temp = get_language_data(code)\n",
    "    value = pd.DataFrame(temp, index=[0])\n",
    "    \n",
    "    sp_result = sp.is_code()[0]\n",
    "    model_result = modele.predict(value)[0]\n",
    "    return jsonify({\"sp_result\": str(sp_result), \"model_result\": str(model_result), \"code\": code})\n",
    "    \n",
    "if __name__ == '__main__':\n",
    "    app.run(port=5000)"
   ]
  },
  {
   "cell_type": "code",
   "execution_count": null,
   "id": "d0059110",
   "metadata": {},
   "outputs": [],
   "source": []
  }
 ],
 "metadata": {
  "kernelspec": {
   "display_name": "Python 3 (ipykernel)",
   "language": "python",
   "name": "python3"
  },
  "language_info": {
   "codemirror_mode": {
    "name": "ipython",
    "version": 3
   },
   "file_extension": ".py",
   "mimetype": "text/x-python",
   "name": "python",
   "nbconvert_exporter": "python",
   "pygments_lexer": "ipython3",
   "version": "3.11.2"
  }
 },
 "nbformat": 4,
 "nbformat_minor": 5
}
