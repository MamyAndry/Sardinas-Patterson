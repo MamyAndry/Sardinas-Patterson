{
 "cells": [
  {
   "cell_type": "code",
   "execution_count": 4,
   "id": "b255cfd6",
   "metadata": {},
   "outputs": [],
   "source": [
    "import numpy as np\n",
    "import pandas as pd\n",
    "from matplotlib import pyplot as plt"
   ]
  },
  {
   "cell_type": "code",
   "execution_count": 24,
   "id": "8b27c8d4",
   "metadata": {},
   "outputs": [],
   "source": [
    "from sklearn.model_selection import train_test_split\n",
    "from sklearn.ensemble import RandomForestClassifier\n",
    "from sklearn.metrics import confusion_matrix\n",
    "from sklearn.metrics import accuracy_score"
   ]
  },
  {
   "cell_type": "code",
   "execution_count": 118,
   "id": "5be414f9",
   "metadata": {},
   "outputs": [],
   "source": [
    "df = pd.read_csv('/home/mamisoa/ITU/L3/Mr_Tsinjo/Sardinas_patterson/codes.csv')"
   ]
  },
  {
   "cell_type": "code",
   "execution_count": 119,
   "id": "ac982106",
   "metadata": {},
   "outputs": [],
   "source": [
    "df = df.applymap(lambda x: 1 if x == True else (0 if x == False else x))"
   ]
  },
  {
   "cell_type": "code",
   "execution_count": 120,
   "id": "4d42cc96",
   "metadata": {
    "scrolled": true
   },
   "outputs": [
    {
     "data": {
      "text/html": [
       "<div>\n",
       "<style scoped>\n",
       "    .dataframe tbody tr th:only-of-type {\n",
       "        vertical-align: middle;\n",
       "    }\n",
       "\n",
       "    .dataframe tbody tr th {\n",
       "        vertical-align: top;\n",
       "    }\n",
       "\n",
       "    .dataframe thead th {\n",
       "        text-align: right;\n",
       "    }\n",
       "</style>\n",
       "<table border=\"1\" class=\"dataframe\">\n",
       "  <thead>\n",
       "    <tr style=\"text-align: right;\">\n",
       "      <th></th>\n",
       "      <th>length</th>\n",
       "      <th>average_word_length</th>\n",
       "      <th>percentage_of_1</th>\n",
       "      <th>percentage_of_0</th>\n",
       "      <th>percentage_of_01</th>\n",
       "      <th>percentage_of_10</th>\n",
       "      <th>frequency_of_1</th>\n",
       "      <th>frequency_of_0</th>\n",
       "      <th>special</th>\n",
       "      <th>code</th>\n",
       "    </tr>\n",
       "  </thead>\n",
       "  <tbody>\n",
       "    <tr>\n",
       "      <th>0</th>\n",
       "      <td>3</td>\n",
       "      <td>3.33</td>\n",
       "      <td>1.666667</td>\n",
       "      <td>1.666667</td>\n",
       "      <td>0.333333</td>\n",
       "      <td>1.000000</td>\n",
       "      <td>1.501502</td>\n",
       "      <td>1.501502</td>\n",
       "      <td>1.230000e-06</td>\n",
       "      <td>1</td>\n",
       "    </tr>\n",
       "    <tr>\n",
       "      <th>1</th>\n",
       "      <td>5</td>\n",
       "      <td>4.00</td>\n",
       "      <td>2.000000</td>\n",
       "      <td>2.000000</td>\n",
       "      <td>0.800000</td>\n",
       "      <td>1.000000</td>\n",
       "      <td>2.500000</td>\n",
       "      <td>2.500000</td>\n",
       "      <td>8.608290e-04</td>\n",
       "      <td>1</td>\n",
       "    </tr>\n",
       "    <tr>\n",
       "      <th>2</th>\n",
       "      <td>3</td>\n",
       "      <td>3.00</td>\n",
       "      <td>1.000000</td>\n",
       "      <td>2.000000</td>\n",
       "      <td>0.000000</td>\n",
       "      <td>0.666667</td>\n",
       "      <td>1.000000</td>\n",
       "      <td>2.000000</td>\n",
       "      <td>8.150000e-07</td>\n",
       "      <td>1</td>\n",
       "    </tr>\n",
       "    <tr>\n",
       "      <th>3</th>\n",
       "      <td>4</td>\n",
       "      <td>2.75</td>\n",
       "      <td>1.500000</td>\n",
       "      <td>1.250000</td>\n",
       "      <td>0.250000</td>\n",
       "      <td>0.500000</td>\n",
       "      <td>2.181818</td>\n",
       "      <td>1.818182</td>\n",
       "      <td>3.950000e-07</td>\n",
       "      <td>1</td>\n",
       "    </tr>\n",
       "    <tr>\n",
       "      <th>4</th>\n",
       "      <td>3</td>\n",
       "      <td>4.00</td>\n",
       "      <td>2.333333</td>\n",
       "      <td>1.666667</td>\n",
       "      <td>0.666667</td>\n",
       "      <td>1.000000</td>\n",
       "      <td>1.750000</td>\n",
       "      <td>1.250000</td>\n",
       "      <td>3.538333e-06</td>\n",
       "      <td>1</td>\n",
       "    </tr>\n",
       "    <tr>\n",
       "      <th>...</th>\n",
       "      <td>...</td>\n",
       "      <td>...</td>\n",
       "      <td>...</td>\n",
       "      <td>...</td>\n",
       "      <td>...</td>\n",
       "      <td>...</td>\n",
       "      <td>...</td>\n",
       "      <td>...</td>\n",
       "      <td>...</td>\n",
       "      <td>...</td>\n",
       "    </tr>\n",
       "    <tr>\n",
       "      <th>4995</th>\n",
       "      <td>7</td>\n",
       "      <td>3.29</td>\n",
       "      <td>1.857143</td>\n",
       "      <td>1.428571</td>\n",
       "      <td>0.428571</td>\n",
       "      <td>0.571429</td>\n",
       "      <td>3.951368</td>\n",
       "      <td>3.039514</td>\n",
       "      <td>3.362015e-03</td>\n",
       "      <td>0</td>\n",
       "    </tr>\n",
       "    <tr>\n",
       "      <th>4996</th>\n",
       "      <td>8</td>\n",
       "      <td>4.12</td>\n",
       "      <td>2.750000</td>\n",
       "      <td>1.375000</td>\n",
       "      <td>0.375000</td>\n",
       "      <td>0.625000</td>\n",
       "      <td>5.339806</td>\n",
       "      <td>2.669903</td>\n",
       "      <td>2.719869e+00</td>\n",
       "      <td>0</td>\n",
       "    </tr>\n",
       "    <tr>\n",
       "      <th>4997</th>\n",
       "      <td>10</td>\n",
       "      <td>3.50</td>\n",
       "      <td>2.500000</td>\n",
       "      <td>1.000000</td>\n",
       "      <td>0.500000</td>\n",
       "      <td>0.600000</td>\n",
       "      <td>7.142857</td>\n",
       "      <td>2.857143</td>\n",
       "      <td>4.299438e+00</td>\n",
       "      <td>0</td>\n",
       "    </tr>\n",
       "    <tr>\n",
       "      <th>4998</th>\n",
       "      <td>6</td>\n",
       "      <td>3.33</td>\n",
       "      <td>1.833333</td>\n",
       "      <td>1.500000</td>\n",
       "      <td>0.833333</td>\n",
       "      <td>0.666667</td>\n",
       "      <td>3.303303</td>\n",
       "      <td>2.702703</td>\n",
       "      <td>5.591767e-04</td>\n",
       "      <td>0</td>\n",
       "    </tr>\n",
       "    <tr>\n",
       "      <th>4999</th>\n",
       "      <td>9</td>\n",
       "      <td>4.56</td>\n",
       "      <td>2.111111</td>\n",
       "      <td>2.444444</td>\n",
       "      <td>0.666667</td>\n",
       "      <td>0.777778</td>\n",
       "      <td>4.166667</td>\n",
       "      <td>4.824561</td>\n",
       "      <td>6.370750e+02</td>\n",
       "      <td>0</td>\n",
       "    </tr>\n",
       "  </tbody>\n",
       "</table>\n",
       "<p>5000 rows × 10 columns</p>\n",
       "</div>"
      ],
      "text/plain": [
       "      length  average_word_length  percentage_of_1  percentage_of_0  \\\n",
       "0          3                 3.33         1.666667         1.666667   \n",
       "1          5                 4.00         2.000000         2.000000   \n",
       "2          3                 3.00         1.000000         2.000000   \n",
       "3          4                 2.75         1.500000         1.250000   \n",
       "4          3                 4.00         2.333333         1.666667   \n",
       "...      ...                  ...              ...              ...   \n",
       "4995       7                 3.29         1.857143         1.428571   \n",
       "4996       8                 4.12         2.750000         1.375000   \n",
       "4997      10                 3.50         2.500000         1.000000   \n",
       "4998       6                 3.33         1.833333         1.500000   \n",
       "4999       9                 4.56         2.111111         2.444444   \n",
       "\n",
       "      percentage_of_01  percentage_of_10  frequency_of_1  frequency_of_0  \\\n",
       "0             0.333333          1.000000        1.501502        1.501502   \n",
       "1             0.800000          1.000000        2.500000        2.500000   \n",
       "2             0.000000          0.666667        1.000000        2.000000   \n",
       "3             0.250000          0.500000        2.181818        1.818182   \n",
       "4             0.666667          1.000000        1.750000        1.250000   \n",
       "...                ...               ...             ...             ...   \n",
       "4995          0.428571          0.571429        3.951368        3.039514   \n",
       "4996          0.375000          0.625000        5.339806        2.669903   \n",
       "4997          0.500000          0.600000        7.142857        2.857143   \n",
       "4998          0.833333          0.666667        3.303303        2.702703   \n",
       "4999          0.666667          0.777778        4.166667        4.824561   \n",
       "\n",
       "           special  code  \n",
       "0     1.230000e-06     1  \n",
       "1     8.608290e-04     1  \n",
       "2     8.150000e-07     1  \n",
       "3     3.950000e-07     1  \n",
       "4     3.538333e-06     1  \n",
       "...            ...   ...  \n",
       "4995  3.362015e-03     0  \n",
       "4996  2.719869e+00     0  \n",
       "4997  4.299438e+00     0  \n",
       "4998  5.591767e-04     0  \n",
       "4999  6.370750e+02     0  \n",
       "\n",
       "[5000 rows x 10 columns]"
      ]
     },
     "execution_count": 120,
     "metadata": {},
     "output_type": "execute_result"
    }
   ],
   "source": [
    "df"
   ]
  },
  {
   "cell_type": "code",
   "execution_count": 121,
   "id": "ae0ac14a",
   "metadata": {},
   "outputs": [],
   "source": [
    "X = df.iloc[:, 0:-1].values\n",
    "Y = df.iloc[:, -1].values"
   ]
  },
  {
   "cell_type": "code",
   "execution_count": 122,
   "id": "fad3816f",
   "metadata": {
    "scrolled": true
   },
   "outputs": [],
   "source": [
    "X_train, X_test, y_train, y_test = train_test_split(X, Y, test_size = 0.20,random_state = 0)"
   ]
  },
  {
   "cell_type": "code",
   "execution_count": 123,
   "id": "20811568",
   "metadata": {},
   "outputs": [],
   "source": [
    "clf = RandomForestClassifier(random_state=0)\n",
    "clf = clf.fit(X_train, y_train)\n",
    "y_pred = clf.predict(X_test)"
   ]
  },
  {
   "cell_type": "code",
   "execution_count": 124,
   "id": "f6a45f8a",
   "metadata": {},
   "outputs": [
    {
     "name": "stdout",
     "output_type": "stream",
     "text": [
      "[[460  59]\n",
      " [ 77 404]]\n"
     ]
    }
   ],
   "source": [
    "cm = confusion_matrix(y_test, y_pred)\n",
    "print(cm)"
   ]
  },
  {
   "cell_type": "code",
   "execution_count": 125,
   "id": "fa73595c",
   "metadata": {},
   "outputs": [
    {
     "data": {
      "text/plain": [
       "0.864"
      ]
     },
     "execution_count": 125,
     "metadata": {},
     "output_type": "execute_result"
    }
   ],
   "source": [
    "accuracy_score(y_test, y_pred)"
   ]
  },
  {
   "cell_type": "code",
   "execution_count": 126,
   "id": "c073f9a5",
   "metadata": {},
   "outputs": [],
   "source": [
    "import joblib"
   ]
  },
  {
   "cell_type": "code",
   "execution_count": 127,
   "id": "03c98035",
   "metadata": {},
   "outputs": [
    {
     "data": {
      "text/plain": [
       "['/home/mamisoa/ITU/L3/Mr_Tsinjo/Sardinas_patterson/code.joblib']"
      ]
     },
     "execution_count": 127,
     "metadata": {},
     "output_type": "execute_result"
    }
   ],
   "source": [
    "joblib.dump(clf , \"/home/mamisoa/ITU/L3/Mr_Tsinjo/Sardinas_patterson/code.joblib\")"
   ]
  },
  {
   "cell_type": "code",
   "execution_count": 128,
   "id": "e27d46c5",
   "metadata": {},
   "outputs": [],
   "source": [
    "modele = joblib.load(\"/home/mamisoa/ITU/L3/Mr_Tsinjo/Sardinas_patterson/code.joblib\")"
   ]
  },
  {
   "cell_type": "code",
   "execution_count": 129,
   "id": "85e8bd22",
   "metadata": {},
   "outputs": [
    {
     "name": "stdout",
     "output_type": "stream",
     "text": [
      "      length  average_word_length  percentage_of_1  percentage_of_0  \\\n",
      "3990     8.0                 2.75            0.875            1.875   \n",
      "\n",
      "      percentage_of_01  percentage_of_10  frequency_of_1  frequency_of_0  \\\n",
      "3990             0.375               0.5        2.545455        5.454545   \n",
      "\n",
      "       special  \n",
      "3990  0.001945  \n"
     ]
    },
    {
     "name": "stderr",
     "output_type": "stream",
     "text": [
      "/usr/lib/python3/dist-packages/sklearn/base.py:413: UserWarning: X has feature names, but RandomForestClassifier was fitted without feature names\n",
      "  warnings.warn(\n"
     ]
    },
    {
     "data": {
      "text/plain": [
       "0"
      ]
     },
     "execution_count": 129,
     "metadata": {},
     "output_type": "execute_result"
    }
   ],
   "source": [
    "value = df.drop('code', axis=1).iloc[3990]\n",
    "value = pd.DataFrame(value).T\n",
    "print(value)\n",
    "modele.predict(value)[0]"
   ]
  },
  {
   "cell_type": "code",
   "execution_count": null,
   "id": "a20cad75",
   "metadata": {},
   "outputs": [],
   "source": []
  }
 ],
 "metadata": {
  "kernelspec": {
   "display_name": "Python 3 (ipykernel)",
   "language": "python",
   "name": "python3"
  },
  "language_info": {
   "codemirror_mode": {
    "name": "ipython",
    "version": 3
   },
   "file_extension": ".py",
   "mimetype": "text/x-python",
   "name": "python",
   "nbconvert_exporter": "python",
   "pygments_lexer": "ipython3",
   "version": "3.11.2"
  }
 },
 "nbformat": 4,
 "nbformat_minor": 5
}
